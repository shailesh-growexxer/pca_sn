{
  "nbformat": 4,
  "nbformat_minor": 0,
  "metadata": {
    "colab": {
      "provenance": []
    },
    "kernelspec": {
      "name": "python3",
      "display_name": "Python 3"
    },
    "language_info": {
      "name": "python"
    }
  },
  "cells": [
    {
      "cell_type": "markdown",
      "source": [
        "**importing required libraries**"
      ],
      "metadata": {
        "id": "47OF2iHoLqkw"
      }
    },
    {
      "cell_type": "code",
      "execution_count": 61,
      "metadata": {
        "id": "La6c-CQdu2uL"
      },
      "outputs": [],
      "source": [
        "import pandas as pd\n",
        "import numpy as np\n",
        "import matplotlib.pyplot as plt\n",
        "from numpy.linalg import eig\n",
        "from sklearn.preprocessing import StandardScaler\n"
      ]
    },
    {
      "cell_type": "markdown",
      "source": [
        "**reading excel file**"
      ],
      "metadata": {
        "id": "SX76YBhBLzPw"
      }
    },
    {
      "cell_type": "code",
      "source": [
        "df=pd.read_excel(\"pca1.xlsx\")\n",
        "df.head()"
      ],
      "metadata": {
        "colab": {
          "base_uri": "https://localhost:8080/",
          "height": 175
        },
        "id": "4wlUsC1PNv3-",
        "outputId": "aeae86f2-0bb3-47c2-fe05-1934a85610d2"
      },
      "execution_count": 62,
      "outputs": [
        {
          "output_type": "execute_result",
          "data": {
            "text/plain": [
              "    X   Y\n",
              "0   4  11\n",
              "1   8   4\n",
              "2  13   5\n",
              "3   7  14"
            ],
            "text/html": [
              "\n",
              "  <div id=\"df-3685e500-2ef9-4d43-87bc-a17c18023bd7\">\n",
              "    <div class=\"colab-df-container\">\n",
              "      <div>\n",
              "<style scoped>\n",
              "    .dataframe tbody tr th:only-of-type {\n",
              "        vertical-align: middle;\n",
              "    }\n",
              "\n",
              "    .dataframe tbody tr th {\n",
              "        vertical-align: top;\n",
              "    }\n",
              "\n",
              "    .dataframe thead th {\n",
              "        text-align: right;\n",
              "    }\n",
              "</style>\n",
              "<table border=\"1\" class=\"dataframe\">\n",
              "  <thead>\n",
              "    <tr style=\"text-align: right;\">\n",
              "      <th></th>\n",
              "      <th>X</th>\n",
              "      <th>Y</th>\n",
              "    </tr>\n",
              "  </thead>\n",
              "  <tbody>\n",
              "    <tr>\n",
              "      <th>0</th>\n",
              "      <td>4</td>\n",
              "      <td>11</td>\n",
              "    </tr>\n",
              "    <tr>\n",
              "      <th>1</th>\n",
              "      <td>8</td>\n",
              "      <td>4</td>\n",
              "    </tr>\n",
              "    <tr>\n",
              "      <th>2</th>\n",
              "      <td>13</td>\n",
              "      <td>5</td>\n",
              "    </tr>\n",
              "    <tr>\n",
              "      <th>3</th>\n",
              "      <td>7</td>\n",
              "      <td>14</td>\n",
              "    </tr>\n",
              "  </tbody>\n",
              "</table>\n",
              "</div>\n",
              "      <button class=\"colab-df-convert\" onclick=\"convertToInteractive('df-3685e500-2ef9-4d43-87bc-a17c18023bd7')\"\n",
              "              title=\"Convert this dataframe to an interactive table.\"\n",
              "              style=\"display:none;\">\n",
              "        \n",
              "  <svg xmlns=\"http://www.w3.org/2000/svg\" height=\"24px\"viewBox=\"0 0 24 24\"\n",
              "       width=\"24px\">\n",
              "    <path d=\"M0 0h24v24H0V0z\" fill=\"none\"/>\n",
              "    <path d=\"M18.56 5.44l.94 2.06.94-2.06 2.06-.94-2.06-.94-.94-2.06-.94 2.06-2.06.94zm-11 1L8.5 8.5l.94-2.06 2.06-.94-2.06-.94L8.5 2.5l-.94 2.06-2.06.94zm10 10l.94 2.06.94-2.06 2.06-.94-2.06-.94-.94-2.06-.94 2.06-2.06.94z\"/><path d=\"M17.41 7.96l-1.37-1.37c-.4-.4-.92-.59-1.43-.59-.52 0-1.04.2-1.43.59L10.3 9.45l-7.72 7.72c-.78.78-.78 2.05 0 2.83L4 21.41c.39.39.9.59 1.41.59.51 0 1.02-.2 1.41-.59l7.78-7.78 2.81-2.81c.8-.78.8-2.07 0-2.86zM5.41 20L4 18.59l7.72-7.72 1.47 1.35L5.41 20z\"/>\n",
              "  </svg>\n",
              "      </button>\n",
              "      \n",
              "  <style>\n",
              "    .colab-df-container {\n",
              "      display:flex;\n",
              "      flex-wrap:wrap;\n",
              "      gap: 12px;\n",
              "    }\n",
              "\n",
              "    .colab-df-convert {\n",
              "      background-color: #E8F0FE;\n",
              "      border: none;\n",
              "      border-radius: 50%;\n",
              "      cursor: pointer;\n",
              "      display: none;\n",
              "      fill: #1967D2;\n",
              "      height: 32px;\n",
              "      padding: 0 0 0 0;\n",
              "      width: 32px;\n",
              "    }\n",
              "\n",
              "    .colab-df-convert:hover {\n",
              "      background-color: #E2EBFA;\n",
              "      box-shadow: 0px 1px 2px rgba(60, 64, 67, 0.3), 0px 1px 3px 1px rgba(60, 64, 67, 0.15);\n",
              "      fill: #174EA6;\n",
              "    }\n",
              "\n",
              "    [theme=dark] .colab-df-convert {\n",
              "      background-color: #3B4455;\n",
              "      fill: #D2E3FC;\n",
              "    }\n",
              "\n",
              "    [theme=dark] .colab-df-convert:hover {\n",
              "      background-color: #434B5C;\n",
              "      box-shadow: 0px 1px 3px 1px rgba(0, 0, 0, 0.15);\n",
              "      filter: drop-shadow(0px 1px 2px rgba(0, 0, 0, 0.3));\n",
              "      fill: #FFFFFF;\n",
              "    }\n",
              "  </style>\n",
              "\n",
              "      <script>\n",
              "        const buttonEl =\n",
              "          document.querySelector('#df-3685e500-2ef9-4d43-87bc-a17c18023bd7 button.colab-df-convert');\n",
              "        buttonEl.style.display =\n",
              "          google.colab.kernel.accessAllowed ? 'block' : 'none';\n",
              "\n",
              "        async function convertToInteractive(key) {\n",
              "          const element = document.querySelector('#df-3685e500-2ef9-4d43-87bc-a17c18023bd7');\n",
              "          const dataTable =\n",
              "            await google.colab.kernel.invokeFunction('convertToInteractive',\n",
              "                                                     [key], {});\n",
              "          if (!dataTable) return;\n",
              "\n",
              "          const docLinkHtml = 'Like what you see? Visit the ' +\n",
              "            '<a target=\"_blank\" href=https://colab.research.google.com/notebooks/data_table.ipynb>data table notebook</a>'\n",
              "            + ' to learn more about interactive tables.';\n",
              "          element.innerHTML = '';\n",
              "          dataTable['output_type'] = 'display_data';\n",
              "          await google.colab.output.renderOutput(dataTable, element);\n",
              "          const docLink = document.createElement('div');\n",
              "          docLink.innerHTML = docLinkHtml;\n",
              "          element.appendChild(docLink);\n",
              "        }\n",
              "      </script>\n",
              "    </div>\n",
              "  </div>\n",
              "  "
            ]
          },
          "metadata": {},
          "execution_count": 62
        }
      ]
    },
    {
      "cell_type": "markdown",
      "source": [
        "**defining two features**"
      ],
      "metadata": {
        "id": "n0KOy71TL7Lh"
      }
    },
    {
      "cell_type": "code",
      "source": [
        "X=df['X']\n",
        "Y=df['Y']"
      ],
      "metadata": {
        "id": "Tg1qutRtD_ei"
      },
      "execution_count": 63,
      "outputs": []
    },
    {
      "cell_type": "code",
      "source": [],
      "metadata": {
        "id": "maa5pYrUoEz1"
      },
      "execution_count": 63,
      "outputs": []
    },
    {
      "cell_type": "markdown",
      "source": [
        "**scatter plot of two features before standardization**"
      ],
      "metadata": {
        "id": "-S2siqVdMC70"
      }
    },
    {
      "cell_type": "code",
      "source": [
        "plt.scatter(X,Y)"
      ],
      "metadata": {
        "colab": {
          "base_uri": "https://localhost:8080/",
          "height": 282
        },
        "id": "aOcLULrZIa3N",
        "outputId": "3b748ad0-e8cd-4adc-f10f-dc5325df7b63"
      },
      "execution_count": 64,
      "outputs": [
        {
          "output_type": "execute_result",
          "data": {
            "text/plain": [
              "<matplotlib.collections.PathCollection at 0x7f5a96946bb0>"
            ]
          },
          "metadata": {},
          "execution_count": 64
        },
        {
          "output_type": "display_data",
          "data": {
            "text/plain": [
              "<Figure size 432x288 with 1 Axes>"
            ],
            "image/png": "[encoded data removed]"
          },
          "metadata": {
            "needs_background": "light"
          }
        }
      ]
    },
    {
      "cell_type": "code",
      "source": [
        "X=np.array(X)\n",
        "X=X.reshape(-1,1)\n",
        "Y=np.array(Y)\n",
        "Y=Y.reshape(-1,1)"
      ],
      "metadata": {
        "id": "kWvan5E9ENWA"
      },
      "execution_count": 65,
      "outputs": []
    },
    {
      "cell_type": "code",
      "source": [
        "X"
      ],
      "metadata": {
        "colab": {
          "base_uri": "https://localhost:8080/"
        },
        "id": "hdX9wv-JHnTw",
        "outputId": "bbfa0fff-2290-46b7-c9c5-ac22fc0cd133"
      },
      "execution_count": 66,
      "outputs": [
        {
          "output_type": "execute_result",
          "data": {
            "text/plain": [
              "array([[ 4],\n",
              "       [ 8],\n",
              "       [13],\n",
              "       [ 7]])"
            ]
          },
          "metadata": {},
          "execution_count": 66
        }
      ]
    },
    {
      "cell_type": "code",
      "source": [
        "Y"
      ],
      "metadata": {
        "colab": {
          "base_uri": "https://localhost:8080/"
        },
        "id": "OQpH-si-ERI2",
        "outputId": "1d884482-6cf5-484a-80bb-c271b686952c"
      },
      "execution_count": 67,
      "outputs": [
        {
          "output_type": "execute_result",
          "data": {
            "text/plain": [
              "array([[11],\n",
              "       [ 4],\n",
              "       [ 5],\n",
              "       [14]])"
            ]
          },
          "metadata": {},
          "execution_count": 67
        }
      ]
    },
    {
      "cell_type": "markdown",
      "source": [
        "**step 1 : standardize the data.In PCA we standardize the data instead of normalization.the reasons for that are stated below:**\n",
        "\n",
        "1. suppose I have dataset which contains feature like vehicle weight,efficiency,\n",
        "price.now if I find the how price changes with respect to 100 pound increase in weight,so I get 204 increase in price and 0.6009 reduction in efficiency.\n",
        "so I can't get the idea about which relationship(weight-price,weight-efficiency) is stronger because unit for weight-price relationship and unit for weight-efficiency is different.\n",
        "\n",
        "  To get the idea which relationship is stronger we need to standardize the data so that each feature will have same unit and we can get the idea about which relationship is stronger.\n",
        "\n",
        "\n",
        "\n",
        "\n",
        "\n",
        "2. if we don't standardize then every feature will have different variance.So the feature with the higher variance will affect/dominant the pricipal component more.by stadardizing the features,each feature will have same variance(1) so every feature will have same dominance on pricipal component.\n"
      ],
      "metadata": {
        "id": "c4ry2n3pMLCI"
      }
    },
    {
      "cell_type": "code",
      "source": [
        "scaler=StandardScaler()\n",
        "X=scaler.fit_transform(X)\n",
        "Y=scaler.fit_transform(Y)"
      ],
      "metadata": {
        "id": "sxloxIu8rRSD"
      },
      "execution_count": 68,
      "outputs": []
    },
    {
      "cell_type": "code",
      "source": [
        "X"
      ],
      "metadata": {
        "colab": {
          "base_uri": "https://localhost:8080/"
        },
        "id": "B9eb6fKbHeRa",
        "outputId": "62992359-c26e-45e8-a713-a2958f554e4a"
      },
      "execution_count": 69,
      "outputs": [
        {
          "output_type": "execute_result",
          "data": {
            "text/plain": [
              "array([[-1.2344268],\n",
              "       [ 0.       ],\n",
              "       [ 1.5430335],\n",
              "       [-0.3086067]])"
            ]
          },
          "metadata": {},
          "execution_count": 69
        }
      ]
    },
    {
      "cell_type": "code",
      "source": [
        "Y"
      ],
      "metadata": {
        "colab": {
          "base_uri": "https://localhost:8080/"
        },
        "id": "wAIgZB8OIYjU",
        "outputId": "61853120-6724-481b-d060-0ea943b50437"
      },
      "execution_count": 70,
      "outputs": [
        {
          "output_type": "execute_result",
          "data": {
            "text/plain": [
              "array([[ 0.60192927],\n",
              "       [-1.08347268],\n",
              "       [-0.84270097],\n",
              "       [ 1.32424438]])"
            ]
          },
          "metadata": {},
          "execution_count": 70
        }
      ]
    },
    {
      "cell_type": "markdown",
      "source": [
        "**scatter plot of two features after standardization**"
      ],
      "metadata": {
        "id": "GtCes2fzQqGH"
      }
    },
    {
      "cell_type": "code",
      "source": [
        "plt.scatter(X,Y)"
      ],
      "metadata": {
        "colab": {
          "base_uri": "https://localhost:8080/",
          "height": 282
        },
        "id": "7QXOZ4oLrMpY",
        "outputId": "76e46e30-4230-44ba-a525-d95f2a76e72d"
      },
      "execution_count": 71,
      "outputs": [
        {
          "output_type": "execute_result",
          "data": {
            "text/plain": [
              "<matplotlib.collections.PathCollection at 0x7f5a9692b550>"
            ]
          },
          "metadata": {},
          "execution_count": 71
        },
        {
          "output_type": "display_data",
          "data": {
            "text/plain": [
              "<Figure size 432x288 with 1 Axes>"
            ],
            "image/png": "[encoded data removed]"
          },
          "metadata": {
            "needs_background": "light"
          }
        }
      ]
    },
    {
      "cell_type": "code",
      "source": [
        "x_bar=X.mean()\n",
        "x_bar"
      ],
      "metadata": {
        "colab": {
          "base_uri": "https://localhost:8080/"
        },
        "id": "vmQMXOJsOgqy",
        "outputId": "19f3e978-0400-4391-ae21-64070349b991"
      },
      "execution_count": 72,
      "outputs": [
        {
          "output_type": "execute_result",
          "data": {
            "text/plain": [
              "-4.163336342344337e-17"
            ]
          },
          "metadata": {},
          "execution_count": 72
        }
      ]
    },
    {
      "cell_type": "code",
      "source": [
        "y_bar=Y.mean()\n",
        "y_bar"
      ],
      "metadata": {
        "colab": {
          "base_uri": "https://localhost:8080/"
        },
        "id": "CaNHi7hZQ6AJ",
        "outputId": "0db450cb-e3f4-432f-a240-a1e3f3d364e6"
      },
      "execution_count": 73,
      "outputs": [
        {
          "output_type": "execute_result",
          "data": {
            "text/plain": [
              "0.0"
            ]
          },
          "metadata": {},
          "execution_count": 73
        }
      ]
    },
    {
      "cell_type": "markdown",
      "source": [
        "**covariance metrics gives the measure of how feature differ with itself or other features**"
      ],
      "metadata": {
        "id": "OFeNZZ2uRwqS"
      }
    },
    {
      "cell_type": "markdown",
      "source": [
        "**defining function for finding covariance between features**"
      ],
      "metadata": {
        "id": "OEi5TdcPQyGW"
      }
    },
    {
      "cell_type": "code",
      "source": [
        "def covariance(first_variable=X,second_variable=Y):\n",
        "  sum_covariance=0\n",
        "  for i in range(len(X)):\n",
        "    sum_covariance=sum_covariance + ((first_variable[i]-x_bar)*(second_variable[i]-y_bar))\n",
        "    cov=sum_covariance/(len(df['X'])-1)\n",
        "  return cov"
      ],
      "metadata": {
        "id": "FEaal_2zPAQS"
      },
      "execution_count": 74,
      "outputs": []
    },
    {
      "cell_type": "code",
      "source": [],
      "metadata": {
        "id": "glYOAbEKfDSY"
      },
      "execution_count": 74,
      "outputs": []
    },
    {
      "cell_type": "code",
      "source": [
        "c_xy=c_yx=float(covariance(X,Y))"
      ],
      "metadata": {
        "id": "b16McQahUbIM"
      },
      "execution_count": 75,
      "outputs": []
    },
    {
      "cell_type": "code",
      "source": [
        "c_xx=float(covariance(X,X))"
      ],
      "metadata": {
        "id": "zjmvGyXpUg1G"
      },
      "execution_count": 76,
      "outputs": []
    },
    {
      "cell_type": "code",
      "source": [
        "c_yy=float(covariance(Y,Y))"
      ],
      "metadata": {
        "id": "MrNgw2sUWsqU"
      },
      "execution_count": 77,
      "outputs": []
    },
    {
      "cell_type": "code",
      "source": [
        "c_xx"
      ],
      "metadata": {
        "colab": {
          "base_uri": "https://localhost:8080/"
        },
        "id": "XHRrSQQRW6PT",
        "outputId": "596f7971-3cb3-4b16-90d0-c115f64775c9"
      },
      "execution_count": 78,
      "outputs": [
        {
          "output_type": "execute_result",
          "data": {
            "text/plain": [
              "1.3333333333333333"
            ]
          },
          "metadata": {},
          "execution_count": 78
        }
      ]
    },
    {
      "cell_type": "code",
      "source": [
        "c_yy"
      ],
      "metadata": {
        "colab": {
          "base_uri": "https://localhost:8080/"
        },
        "id": "Co8G8mLyXhfN",
        "outputId": "b73909fd-1f41-4c78-ae66-55adfd3dc206"
      },
      "execution_count": 79,
      "outputs": [
        {
          "output_type": "execute_result",
          "data": {
            "text/plain": [
              "1.3333333333333333"
            ]
          },
          "metadata": {},
          "execution_count": 79
        }
      ]
    },
    {
      "cell_type": "code",
      "source": [
        "c_xy"
      ],
      "metadata": {
        "colab": {
          "base_uri": "https://localhost:8080/"
        },
        "id": "LNhh6JY3XiPL",
        "outputId": "0db3c2cf-4684-4c6c-b9b2-6a82904cf624"
      },
      "execution_count": 80,
      "outputs": [
        {
          "output_type": "execute_result",
          "data": {
            "text/plain": [
              "-0.8173413784438507"
            ]
          },
          "metadata": {},
          "execution_count": 80
        }
      ]
    },
    {
      "cell_type": "code",
      "source": [
        "c_yx"
      ],
      "metadata": {
        "colab": {
          "base_uri": "https://localhost:8080/"
        },
        "id": "G_zVSgJgXi67",
        "outputId": "c0a48882-97d4-46e8-d7c9-e7ac70bef4ee"
      },
      "execution_count": 81,
      "outputs": [
        {
          "output_type": "execute_result",
          "data": {
            "text/plain": [
              "-0.8173413784438507"
            ]
          },
          "metadata": {},
          "execution_count": 81
        }
      ]
    },
    {
      "cell_type": "markdown",
      "source": [
        "**step 2 : finding covariance metrics**"
      ],
      "metadata": {
        "id": "o3cOqYG7RpWK"
      }
    },
    {
      "cell_type": "markdown",
      "source": [
        "**In PCA , we calculate the covariance matrix to find the directions of maximum variance in a dataset. The covariance matrix is a square matrix that contains the variances and covariances of all possible pairs of features in a dataset.This information is useful for reducing the dimensionality of the data, by identifying and removing variables that are redundant or not informative,**"
      ],
      "metadata": {
        "id": "2mV0qqX2UWnG"
      }
    },
    {
      "cell_type": "code",
      "source": [
        "c_metrics=np.array([[c_xx,c_xy],[c_yx,c_yy]])\n",
        "c_metrics"
      ],
      "metadata": {
        "colab": {
          "base_uri": "https://localhost:8080/"
        },
        "id": "yOozL3aiXjl-",
        "outputId": "1ceb47b8-f4ba-45d4-a055-e161aaf44c00"
      },
      "execution_count": 82,
      "outputs": [
        {
          "output_type": "execute_result",
          "data": {
            "text/plain": [
              "array([[ 1.33333333, -0.81734138],\n",
              "       [-0.81734138,  1.33333333]])"
            ]
          },
          "metadata": {},
          "execution_count": 82
        }
      ]
    },
    {
      "cell_type": "markdown",
      "source": [
        "**step 3 : finding eigen values**"
      ],
      "metadata": {
        "id": "B3vjxk0_VGDT"
      }
    },
    {
      "cell_type": "markdown",
      "source": [
        "**eigen values give the measure of how much information eigen vector captures.Highest eigen value implies maximum information.because of that, we sort the eigen values in the descending order and find the eigen vector for each eigen values.**"
      ],
      "metadata": {
        "id": "BCO4JpnoVkhD"
      }
    },
    {
      "cell_type": "markdown",
      "source": [
        "**step 4 : finding eigen vectors**"
      ],
      "metadata": {
        "id": "kAhgaqI4WMwD"
      }
    },
    {
      "cell_type": "markdown",
      "source": [
        "**eigen vector gives the direction of principal component on which the data points are projected**"
      ],
      "metadata": {
        "id": "4Nn7_XtiWTgq"
      }
    },
    {
      "cell_type": "code",
      "source": [
        "eigenvalues,eigenvectors=eig(c_metrics)"
      ],
      "metadata": {
        "id": "w4phfbbzdQBz"
      },
      "execution_count": 83,
      "outputs": []
    },
    {
      "cell_type": "code",
      "source": [
        "eigenvalues"
      ],
      "metadata": {
        "colab": {
          "base_uri": "https://localhost:8080/"
        },
        "id": "Dyd59klin5xv",
        "outputId": "b101321a-3a0b-449a-c430-92651be2c96f"
      },
      "execution_count": 84,
      "outputs": [
        {
          "output_type": "execute_result",
          "data": {
            "text/plain": [
              "array([2.15067471, 0.51599195])"
            ]
          },
          "metadata": {},
          "execution_count": 84
        }
      ]
    },
    {
      "cell_type": "code",
      "source": [
        "eigenvectors"
      ],
      "metadata": {
        "colab": {
          "base_uri": "https://localhost:8080/"
        },
        "id": "wK-LgIRwh7f2",
        "outputId": "90d8f70a-f1c6-4370-b573-bf08703c196f"
      },
      "execution_count": 85,
      "outputs": [
        {
          "output_type": "execute_result",
          "data": {
            "text/plain": [
              "array([[ 0.70710678,  0.70710678],\n",
              "       [-0.70710678,  0.70710678]])"
            ]
          },
          "metadata": {},
          "execution_count": 85
        }
      ]
    },
    {
      "cell_type": "code",
      "source": [
        "e1=eigenvectors[:,0]\n",
        "e1"
      ],
      "metadata": {
        "colab": {
          "base_uri": "https://localhost:8080/"
        },
        "id": "5pWIKiGAkssb",
        "outputId": "32dd4b89-b6ce-4c6f-d823-031a8405f12f"
      },
      "execution_count": 86,
      "outputs": [
        {
          "output_type": "execute_result",
          "data": {
            "text/plain": [
              "array([ 0.70710678, -0.70710678])"
            ]
          },
          "metadata": {},
          "execution_count": 86
        }
      ]
    },
    {
      "cell_type": "code",
      "source": [
        "e2=eigenvectors[:,1]\n",
        "e2"
      ],
      "metadata": {
        "colab": {
          "base_uri": "https://localhost:8080/"
        },
        "id": "PYZlSMYWo0dS",
        "outputId": "372c22ef-2a17-4853-d3cf-419bbaa4da1e"
      },
      "execution_count": 87,
      "outputs": [
        {
          "output_type": "execute_result",
          "data": {
            "text/plain": [
              "array([0.70710678, 0.70710678])"
            ]
          },
          "metadata": {},
          "execution_count": 87
        }
      ]
    },
    {
      "cell_type": "code",
      "source": [],
      "metadata": {
        "id": "xifYDKI4hlOS"
      },
      "execution_count": 87,
      "outputs": []
    },
    {
      "cell_type": "code",
      "source": [],
      "metadata": {
        "id": "DYZqw34IjDLM"
      },
      "execution_count": 87,
      "outputs": []
    },
    {
      "cell_type": "code",
      "source": [
        "sub_xy=[]\n",
        "for i in range(len(X)):\n",
        "  x_comp=(X[i][0]-x_bar)\n",
        "  y_comp=(Y[i][0]-y_bar)\n",
        "  sub_xy.append([x_comp,y_comp])"
      ],
      "metadata": {
        "id": "KmS-GtdDe79f"
      },
      "execution_count": 88,
      "outputs": []
    },
    {
      "cell_type": "code",
      "source": [
        "sub_xy"
      ],
      "metadata": {
        "colab": {
          "base_uri": "https://localhost:8080/"
        },
        "id": "SSOve0-HcYKZ",
        "outputId": "f69c81ed-476f-40c7-c7e2-bf6001cebfa2"
      },
      "execution_count": 89,
      "outputs": [
        {
          "output_type": "execute_result",
          "data": {
            "text/plain": [
              "[[-1.2344267996967353, 0.601929265428846],\n",
              " [4.163336342344337e-17, -1.0834726777719228],\n",
              " [1.543033499620919, -0.8427009716003844],\n",
              " [-0.30860669992418377, 1.3242443839434612]]"
            ]
          },
          "metadata": {},
          "execution_count": 89
        }
      ]
    },
    {
      "cell_type": "markdown",
      "source": [
        "**step 5 : finding pricipal component.**"
      ],
      "metadata": {
        "id": "fOofFtWWCH8j"
      }
    },
    {
      "cell_type": "markdown",
      "source": [
        "**In this step we reduce the dimensionality and find the principal component value for each data point in lower dimension.**"
      ],
      "metadata": {
        "id": "EvXVf3QIXWZj"
      }
    },
    {
      "cell_type": "code",
      "source": [
        "pc1=[]\n",
        "pc2=[]\n",
        "for i in range(len(X)):\n",
        "  t=sub_xy[i]\n",
        "  t=np.array(t)\n",
        "  t=t.reshape(2,1)\n",
        "  e1=e1.reshape(1,2)\n",
        "  e2=e2.reshape(1,2)\n",
        "  p1=np.dot(e1,t)\n",
        "  p2=np.dot(e2,t)\n",
        "  pc1.append(p1[0][0])\n",
        "  pc2.append(p2[0][0])\n"
      ],
      "metadata": {
        "id": "BPPlxwMMgkhs"
      },
      "execution_count": 90,
      "outputs": []
    },
    {
      "cell_type": "code",
      "source": [
        "pc1"
      ],
      "metadata": {
        "colab": {
          "base_uri": "https://localhost:8080/"
        },
        "id": "f0YEdpNphF6g",
        "outputId": "9f8a56a5-c3e2-4cb0-9813-909d97b6402c"
      },
      "execution_count": 91,
      "outputs": [
        {
          "output_type": "execute_result",
          "data": {
            "text/plain": [
              "[-1.2984998263233438,\n",
              " 0.7661308776828737,\n",
              " 1.6869690227110858,\n",
              " -1.1546000740706157]"
            ]
          },
          "metadata": {},
          "execution_count": 91
        }
      ]
    },
    {
      "cell_type": "code",
      "source": [
        "pc2"
      ],
      "metadata": {
        "colab": {
          "base_uri": "https://localhost:8080/"
        },
        "id": "tQ_U9UT-hIJu",
        "outputId": "018f8db3-b910-4f46-ce4f-60e5107e8c40"
      },
      "execution_count": 92,
      "outputs": [
        {
          "output_type": "execute_result",
          "data": {
            "text/plain": [
              "[-0.4472432955645952,\n",
              " -0.7661308776828738,\n",
              " 0.4952098796488378,\n",
              " 0.7181642935986312]"
            ]
          },
          "metadata": {},
          "execution_count": 92
        }
      ]
    },
    {
      "cell_type": "code",
      "source": [
        "start_point = [x_bar, y_bar]\n",
        "end_point = [5, 5]\n",
        "line_points_1 = start_point + eigenvalues[0] * eigenvectors[:, 0]\n",
        "line_points_2 = start_point + eigenvalues[1] * eigenvectors[:, 1]\n",
        "\n",
        "plt.plot([start_point[0], line_points_1[0]], [start_point[1], line_points_1[1]], 'r', label='Eigenvector 1')\n",
        "plt.plot([start_point[0], line_points_2[0]], [start_point[1], line_points_2[1]], 'b', label='Eigenvector 2')\n",
        "\n",
        "plt.legend(loc='upper left')\n",
        "plt.title('Line Plot using Eigenvalues and Eigenvectors')\n",
        "plt.xlabel('X-axis')\n",
        "plt.ylabel('Y-axis')\n",
        "\n",
        "plt.xlim(-2, 2)\n",
        "plt.ylim(-2, 2)\n",
        "\n",
        "plt.show()"
      ],
      "metadata": {
        "colab": {
          "base_uri": "https://localhost:8080/",
          "height": 295
        },
        "id": "DO7D1gC-DIh3",
        "outputId": "1f898940-35de-429b-8bcb-f7596f2a74f5"
      },
      "execution_count": 93,
      "outputs": [
        {
          "output_type": "display_data",
          "data": {
            "text/plain": [
              "<Figure size 432x288 with 1 Axes>"
            ],
            "image/png": "[encoded data removed]"
          },
          "metadata": {
            "needs_background": "light"
          }
        }
      ]
    },
    {
      "cell_type": "markdown",
      "source": [
        "**checking whether two pc are orthogonal or not using dot product of two variable.if dot product of two principal component is 0 then it is orthogonal**"
      ],
      "metadata": {
        "id": "cF0YwwYzHDOT"
      }
    },
    {
      "cell_type": "code",
      "source": [
        "np.vdot(line_points_1,line_points_2)"
      ],
      "metadata": {
        "colab": {
          "base_uri": "https://localhost:8080/"
        },
        "id": "I_nkNVvhFD9E",
        "outputId": "cbc60a9a-6a70-4a4f-c77c-1994cf98c910"
      },
      "execution_count": 94,
      "outputs": [
        {
          "output_type": "execute_result",
          "data": {
            "text/plain": [
              "-1.1102230246251565e-16"
            ]
          },
          "metadata": {},
          "execution_count": 94
        }
      ]
    },
    {
      "cell_type": "code",
      "source": [],
      "metadata": {
        "id": "v3VW_UtTlegc"
      },
      "execution_count": 94,
      "outputs": []
    },
    {
      "cell_type": "code",
      "source": [],
      "metadata": {
        "id": "xk5KflBxxK5e"
      },
      "execution_count": 94,
      "outputs": []
    },
    {
      "cell_type": "code",
      "source": [],
      "metadata": {
        "id": "rMI3XfAqxK2W"
      },
      "execution_count": 94,
      "outputs": []
    },
    {
      "cell_type": "markdown",
      "source": [
        "**now using minmaxscaler**"
      ],
      "metadata": {
        "id": "h9elLNYq0y6o"
      }
    },
    {
      "cell_type": "code",
      "source": [
        "from sklearn.preprocessing import MinMaxScaler"
      ],
      "metadata": {
        "id": "WgzgavD5w07P"
      },
      "execution_count": 95,
      "outputs": []
    },
    {
      "cell_type": "code",
      "source": [
        "scaler=MinMaxScaler()"
      ],
      "metadata": {
        "id": "WjbWi3jBw01z"
      },
      "execution_count": 96,
      "outputs": []
    },
    {
      "cell_type": "code",
      "source": [
        "df=pd.read_excel(\"pca1.xlsx\")\n",
        "df.head()"
      ],
      "metadata": {
        "colab": {
          "base_uri": "https://localhost:8080/",
          "height": 175
        },
        "id": "GaNOTby_w5M1",
        "outputId": "db6c8f57-3e15-4816-f928-83d75cf2438b"
      },
      "execution_count": 97,
      "outputs": [
        {
          "output_type": "execute_result",
          "data": {
            "text/plain": [
              "    X   Y\n",
              "0   4  11\n",
              "1   8   4\n",
              "2  13   5\n",
              "3   7  14"
            ],
            "text/html": [
              "\n",
              "  <div id=\"df-216f2910-6f0c-42a9-b21e-66b15bceece3\">\n",
              "    <div class=\"colab-df-container\">\n",
              "      <div>\n",
              "<style scoped>\n",
              "    .dataframe tbody tr th:only-of-type {\n",
              "        vertical-align: middle;\n",
              "    }\n",
              "\n",
              "    .dataframe tbody tr th {\n",
              "        vertical-align: top;\n",
              "    }\n",
              "\n",
              "    .dataframe thead th {\n",
              "        text-align: right;\n",
              "    }\n",
              "</style>\n",
              "<table border=\"1\" class=\"dataframe\">\n",
              "  <thead>\n",
              "    <tr style=\"text-align: right;\">\n",
              "      <th></th>\n",
              "      <th>X</th>\n",
              "      <th>Y</th>\n",
              "    </tr>\n",
              "  </thead>\n",
              "  <tbody>\n",
              "    <tr>\n",
              "      <th>0</th>\n",
              "      <td>4</td>\n",
              "      <td>11</td>\n",
              "    </tr>\n",
              "    <tr>\n",
              "      <th>1</th>\n",
              "      <td>8</td>\n",
              "      <td>4</td>\n",
              "    </tr>\n",
              "    <tr>\n",
              "      <th>2</th>\n",
              "      <td>13</td>\n",
              "      <td>5</td>\n",
              "    </tr>\n",
              "    <tr>\n",
              "      <th>3</th>\n",
              "      <td>7</td>\n",
              "      <td>14</td>\n",
              "    </tr>\n",
              "  </tbody>\n",
              "</table>\n",
              "</div>\n",
              "      <button class=\"colab-df-convert\" onclick=\"convertToInteractive('df-216f2910-6f0c-42a9-b21e-66b15bceece3')\"\n",
              "              title=\"Convert this dataframe to an interactive table.\"\n",
              "              style=\"display:none;\">\n",
              "        \n",
              "  <svg xmlns=\"http://www.w3.org/2000/svg\" height=\"24px\"viewBox=\"0 0 24 24\"\n",
              "       width=\"24px\">\n",
              "    <path d=\"M0 0h24v24H0V0z\" fill=\"none\"/>\n",
              "    <path d=\"M18.56 5.44l.94 2.06.94-2.06 2.06-.94-2.06-.94-.94-2.06-.94 2.06-2.06.94zm-11 1L8.5 8.5l.94-2.06 2.06-.94-2.06-.94L8.5 2.5l-.94 2.06-2.06.94zm10 10l.94 2.06.94-2.06 2.06-.94-2.06-.94-.94-2.06-.94 2.06-2.06.94z\"/><path d=\"M17.41 7.96l-1.37-1.37c-.4-.4-.92-.59-1.43-.59-.52 0-1.04.2-1.43.59L10.3 9.45l-7.72 7.72c-.78.78-.78 2.05 0 2.83L4 21.41c.39.39.9.59 1.41.59.51 0 1.02-.2 1.41-.59l7.78-7.78 2.81-2.81c.8-.78.8-2.07 0-2.86zM5.41 20L4 18.59l7.72-7.72 1.47 1.35L5.41 20z\"/>\n",
              "  </svg>\n",
              "      </button>\n",
              "      \n",
              "  <style>\n",
              "    .colab-df-container {\n",
              "      display:flex;\n",
              "      flex-wrap:wrap;\n",
              "      gap: 12px;\n",
              "    }\n",
              "\n",
              "    .colab-df-convert {\n",
              "      background-color: #E8F0FE;\n",
              "      border: none;\n",
              "      border-radius: 50%;\n",
              "      cursor: pointer;\n",
              "      display: none;\n",
              "      fill: #1967D2;\n",
              "      height: 32px;\n",
              "      padding: 0 0 0 0;\n",
              "      width: 32px;\n",
              "    }\n",
              "\n",
              "    .colab-df-convert:hover {\n",
              "      background-color: #E2EBFA;\n",
              "      box-shadow: 0px 1px 2px rgba(60, 64, 67, 0.3), 0px 1px 3px 1px rgba(60, 64, 67, 0.15);\n",
              "      fill: #174EA6;\n",
              "    }\n",
              "\n",
              "    [theme=dark] .colab-df-convert {\n",
              "      background-color: #3B4455;\n",
              "      fill: #D2E3FC;\n",
              "    }\n",
              "\n",
              "    [theme=dark] .colab-df-convert:hover {\n",
              "      background-color: #434B5C;\n",
              "      box-shadow: 0px 1px 3px 1px rgba(0, 0, 0, 0.15);\n",
              "      filter: drop-shadow(0px 1px 2px rgba(0, 0, 0, 0.3));\n",
              "      fill: #FFFFFF;\n",
              "    }\n",
              "  </style>\n",
              "\n",
              "      <script>\n",
              "        const buttonEl =\n",
              "          document.querySelector('#df-216f2910-6f0c-42a9-b21e-66b15bceece3 button.colab-df-convert');\n",
              "        buttonEl.style.display =\n",
              "          google.colab.kernel.accessAllowed ? 'block' : 'none';\n",
              "\n",
              "        async function convertToInteractive(key) {\n",
              "          const element = document.querySelector('#df-216f2910-6f0c-42a9-b21e-66b15bceece3');\n",
              "          const dataTable =\n",
              "            await google.colab.kernel.invokeFunction('convertToInteractive',\n",
              "                                                     [key], {});\n",
              "          if (!dataTable) return;\n",
              "\n",
              "          const docLinkHtml = 'Like what you see? Visit the ' +\n",
              "            '<a target=\"_blank\" href=https://colab.research.google.com/notebooks/data_table.ipynb>data table notebook</a>'\n",
              "            + ' to learn more about interactive tables.';\n",
              "          element.innerHTML = '';\n",
              "          dataTable['output_type'] = 'display_data';\n",
              "          await google.colab.output.renderOutput(dataTable, element);\n",
              "          const docLink = document.createElement('div');\n",
              "          docLink.innerHTML = docLinkHtml;\n",
              "          element.appendChild(docLink);\n",
              "        }\n",
              "      </script>\n",
              "    </div>\n",
              "  </div>\n",
              "  "
            ]
          },
          "metadata": {},
          "execution_count": 97
        }
      ]
    },
    {
      "cell_type": "code",
      "source": [
        "X=df['X']\n",
        "Y=df['Y']"
      ],
      "metadata": {
        "id": "lTuWrHm6xRmL"
      },
      "execution_count": 98,
      "outputs": []
    },
    {
      "cell_type": "code",
      "source": [
        "X=np.array(X)\n",
        "X=X.reshape(-1,1)\n",
        "Y=np.array(Y)\n",
        "Y=Y.reshape(-1,1)"
      ],
      "metadata": {
        "id": "pjoxNbVoxh1l"
      },
      "execution_count": 99,
      "outputs": []
    },
    {
      "cell_type": "code",
      "source": [
        "X=scaler.fit_transform(X)\n",
        "Y=scaler.fit_transform(Y)"
      ],
      "metadata": {
        "id": "p8zoy4AVxSdG"
      },
      "execution_count": 100,
      "outputs": []
    },
    {
      "cell_type": "code",
      "source": [
        "plt.scatter(X,Y)"
      ],
      "metadata": {
        "colab": {
          "base_uri": "https://localhost:8080/",
          "height": 282
        },
        "id": "Hs3_kHihxaji",
        "outputId": "f0ed14b6-0a76-410b-bbb3-e893e270fb1d"
      },
      "execution_count": 101,
      "outputs": [
        {
          "output_type": "execute_result",
          "data": {
            "text/plain": [
              "<matplotlib.collections.PathCollection at 0x7f5a96ada2b0>"
            ]
          },
          "metadata": {},
          "execution_count": 101
        },
        {
          "output_type": "display_data",
          "data": {
            "text/plain": [
              "<Figure size 432x288 with 1 Axes>"
            ],
            "image/png": "[encoded data removed]"
          },
          "metadata": {
            "needs_background": "light"
          }
        }
      ]
    },
    {
      "cell_type": "code",
      "source": [
        "x_bar=X.mean()\n",
        "x_bar"
      ],
      "metadata": {
        "colab": {
          "base_uri": "https://localhost:8080/"
        },
        "id": "kkWGEBzxxpcY",
        "outputId": "3bf62148-134b-44c9-c448-abbb1456d719"
      },
      "execution_count": 102,
      "outputs": [
        {
          "output_type": "execute_result",
          "data": {
            "text/plain": [
              "0.4444444444444444"
            ]
          },
          "metadata": {},
          "execution_count": 102
        }
      ]
    },
    {
      "cell_type": "code",
      "source": [
        "y_bar=Y.mean()\n",
        "y_bar"
      ],
      "metadata": {
        "colab": {
          "base_uri": "https://localhost:8080/"
        },
        "id": "X4KaYAbsxtJf",
        "outputId": "574170f0-0674-4e1e-a578-5855c44ea211"
      },
      "execution_count": 103,
      "outputs": [
        {
          "output_type": "execute_result",
          "data": {
            "text/plain": [
              "0.45"
            ]
          },
          "metadata": {},
          "execution_count": 103
        }
      ]
    },
    {
      "cell_type": "code",
      "source": [
        "def covariance(first_variable=X,second_variable=Y):\n",
        "  sum_covariance=0\n",
        "  for i in range(len(X)):\n",
        "    sum_covariance=sum_covariance + ((first_variable[i]-x_bar)*(second_variable[i]-y_bar))\n",
        "    cov=sum_covariance/(len(df['X'])-1)\n",
        "  return cov"
      ],
      "metadata": {
        "id": "hemN0FZWxyKU"
      },
      "execution_count": 104,
      "outputs": []
    },
    {
      "cell_type": "code",
      "source": [
        "c_xy=c_yx=float(covariance(X,Y))"
      ],
      "metadata": {
        "id": "HifJYOnKx5SK"
      },
      "execution_count": 105,
      "outputs": []
    },
    {
      "cell_type": "code",
      "source": [
        "c_xx=float(covariance(X,X))"
      ],
      "metadata": {
        "id": "LjiffIW6x88B"
      },
      "execution_count": 106,
      "outputs": []
    },
    {
      "cell_type": "code",
      "source": [
        "c_yy=float(covariance(Y,Y))"
      ],
      "metadata": {
        "id": "37at-e6ryAeR"
      },
      "execution_count": 107,
      "outputs": []
    },
    {
      "cell_type": "code",
      "source": [
        "c_metrics=np.array([[c_xx,c_xy],[c_yx,c_yy]])\n",
        "c_metrics"
      ],
      "metadata": {
        "colab": {
          "base_uri": "https://localhost:8080/"
        },
        "id": "6ScbDo4-yEqe",
        "outputId": "e043bc5d-5854-426a-fbee-4d906ca6e6a9"
      },
      "execution_count": 108,
      "outputs": [
        {
          "output_type": "execute_result",
          "data": {
            "text/plain": [
              "array([[ 0.17283951, -0.12222222],\n",
              "       [-0.12222222,  0.23      ]])"
            ]
          },
          "metadata": {},
          "execution_count": 108
        }
      ]
    },
    {
      "cell_type": "code",
      "source": [
        "eigenvalues,eigenvectors=eig(c_metrics)"
      ],
      "metadata": {
        "id": "mPN8a1ppyJZ-"
      },
      "execution_count": 109,
      "outputs": []
    },
    {
      "cell_type": "code",
      "source": [
        "eigenvalues"
      ],
      "metadata": {
        "colab": {
          "base_uri": "https://localhost:8080/"
        },
        "id": "2QTECTy4yNtD",
        "outputId": "55a437d6-b043-443d-b5d4-c9ebb349050b"
      },
      "execution_count": 110,
      "outputs": [
        {
          "output_type": "execute_result",
          "data": {
            "text/plain": [
              "array([0.07590042, 0.32693908])"
            ]
          },
          "metadata": {},
          "execution_count": 110
        }
      ]
    },
    {
      "cell_type": "code",
      "source": [
        "eigenvectors"
      ],
      "metadata": {
        "colab": {
          "base_uri": "https://localhost:8080/"
        },
        "id": "25Kp0tVGyRaX",
        "outputId": "13928e92-4aff-4096-b949-ca209d46f82f"
      },
      "execution_count": 111,
      "outputs": [
        {
          "output_type": "execute_result",
          "data": {
            "text/plain": [
              "array([[-0.78348452,  0.6214113 ],\n",
              "       [-0.6214113 , -0.78348452]])"
            ]
          },
          "metadata": {},
          "execution_count": 111
        }
      ]
    },
    {
      "cell_type": "code",
      "source": [
        "e1=eigenvectors[:,0]\n",
        "e1"
      ],
      "metadata": {
        "colab": {
          "base_uri": "https://localhost:8080/"
        },
        "id": "ORBNCKcLySvm",
        "outputId": "f387ca08-cad8-404d-f9ad-d8f7038332b2"
      },
      "execution_count": 112,
      "outputs": [
        {
          "output_type": "execute_result",
          "data": {
            "text/plain": [
              "array([-0.78348452, -0.6214113 ])"
            ]
          },
          "metadata": {},
          "execution_count": 112
        }
      ]
    },
    {
      "cell_type": "code",
      "source": [
        "e2=eigenvectors[:,1]\n",
        "e2"
      ],
      "metadata": {
        "colab": {
          "base_uri": "https://localhost:8080/"
        },
        "id": "RXxBtpQHyWto",
        "outputId": "cd7ab6da-f539-43c4-92c8-a00e144afcb3"
      },
      "execution_count": 113,
      "outputs": [
        {
          "output_type": "execute_result",
          "data": {
            "text/plain": [
              "array([ 0.6214113 , -0.78348452])"
            ]
          },
          "metadata": {},
          "execution_count": 113
        }
      ]
    },
    {
      "cell_type": "code",
      "source": [
        "sub_xy=[]\n",
        "for i in range(len(X)):\n",
        "  x_comp=(X[i][0]-x_bar)\n",
        "  y_comp=(Y[i][0]-y_bar)\n",
        "  sub_xy.append([x_comp,y_comp])"
      ],
      "metadata": {
        "id": "dNjBEMJdyZRO"
      },
      "execution_count": 114,
      "outputs": []
    },
    {
      "cell_type": "code",
      "source": [
        "sub_xy"
      ],
      "metadata": {
        "colab": {
          "base_uri": "https://localhost:8080/"
        },
        "id": "PXGTjJruycwP",
        "outputId": "2662742a-e581-4ce0-9a3c-7eb4b8096a85"
      },
      "execution_count": 115,
      "outputs": [
        {
          "output_type": "execute_result",
          "data": {
            "text/plain": [
              "[[-0.4444444444444444, 0.25000000000000006],\n",
              " [0.0, -0.45],\n",
              " [0.5555555555555556, -0.35000000000000003],\n",
              " [-0.11111111111111116, 0.55]]"
            ]
          },
          "metadata": {},
          "execution_count": 115
        }
      ]
    },
    {
      "cell_type": "code",
      "source": [
        "pc1=[]\n",
        "pc2=[]\n",
        "for i in range(len(X)):\n",
        "  t=sub_xy[i]\n",
        "  t=np.array(t)\n",
        "  t=t.reshape(2,1)\n",
        "  e1=e1.reshape(1,2)\n",
        "  e2=e2.reshape(1,2)\n",
        "  p1=np.dot(e1,t)\n",
        "  p2=np.dot(e2,t)\n",
        "  pc1.append(p1[0][0])\n",
        "  pc2.append(p2[0][0])\n"
      ],
      "metadata": {
        "id": "QeJ2GtMbyeBP"
      },
      "execution_count": 116,
      "outputs": []
    },
    {
      "cell_type": "code",
      "source": [
        "pc1"
      ],
      "metadata": {
        "colab": {
          "base_uri": "https://localhost:8080/"
        },
        "id": "aW7Ijo1AyhL4",
        "outputId": "2cf53636-719a-4f72-bceb-bf39dec7ec28"
      },
      "execution_count": 117,
      "outputs": [
        {
          "output_type": "execute_result",
          "data": {
            "text/plain": [
              "[0.1928625153605027,\n",
              " 0.2796350870583469,\n",
              " -0.21777522027909949,\n",
              " -0.25472238213975007]"
            ]
          },
          "metadata": {},
          "execution_count": 117
        }
      ]
    },
    {
      "cell_type": "code",
      "source": [
        "pc2"
      ],
      "metadata": {
        "colab": {
          "base_uri": "https://localhost:8080/"
        },
        "id": "UyOoRy5byiCE",
        "outputId": "b9b93a21-b008-4ec8-e4f1-57bf9bcd8d25"
      },
      "execution_count": 118,
      "outputs": [
        {
          "output_type": "execute_result",
          "data": {
            "text/plain": [
              "[-0.4720539316289515,\n",
              " 0.35256803327282915,\n",
              " 0.6194480839755917,\n",
              " -0.4999621856194695]"
            ]
          },
          "metadata": {},
          "execution_count": 118
        }
      ]
    },
    {
      "cell_type": "code",
      "source": [
        "start_point = [x_bar, y_bar]\n",
        "end_point = [5, 5]\n",
        "line_points_1 = start_point + eigenvalues[0] * eigenvectors[:, 0]\n",
        "line_points_2 = start_point + eigenvalues[1] * eigenvectors[:, 1]\n",
        "\n",
        "plt.plot([start_point[0], line_points_1[0]], [start_point[1], line_points_1[1]], 'r')\n",
        "plt.plot([start_point[0], line_points_2[0]], [start_point[1], line_points_2[1]], 'b')\n",
        "\n",
        "plt.legend(loc='upper left')\n",
        "plt.title('Line Plot using Eigenvalues and Eigenvectors')\n",
        "plt.xlabel('X-axis')\n",
        "plt.ylabel('Y-axis')\n",
        "\n",
        "plt.xlim(-1, 1)\n",
        "plt.ylim(-1, 1)\n",
        "\n",
        "plt.show()"
      ],
      "metadata": {
        "colab": {
          "base_uri": "https://localhost:8080/",
          "height": 332
        },
        "id": "rVy7WA6Byi13",
        "outputId": "942c82dc-6bcf-4363-c51d-5dd8da9820f4"
      },
      "execution_count": 119,
      "outputs": [
        {
          "output_type": "stream",
          "name": "stderr",
          "text": [
            "WARNING:matplotlib.legend:No artists with labels found to put in legend.  Note that artists whose label start with an underscore are ignored when legend() is called with no argument.\n"
          ]
        },
        {
          "output_type": "display_data",
          "data": {
            "text/plain": [
              "<Figure size 432x288 with 1 Axes>"
            ],
            "image/png": "[encoded data removed]"
          },
          "metadata": {
            "needs_background": "light"
          }
        }
      ]
    },
    {
      "cell_type": "code",
      "source": [
        "np.vdot(line_points_1,line_points_2)"
      ],
      "metadata": {
        "colab": {
          "base_uri": "https://localhost:8080/"
        },
        "id": "_xYGlaDMynKc",
        "outputId": "edbc4c96-cbc3-4852-aec4-60c4763add1c"
      },
      "execution_count": 120,
      "outputs": [
        {
          "output_type": "execute_result",
          "data": {
            "text/plain": [
              "0.32740343338486666"
            ]
          },
          "metadata": {},
          "execution_count": 120
        }
      ]
    }
  ]
}